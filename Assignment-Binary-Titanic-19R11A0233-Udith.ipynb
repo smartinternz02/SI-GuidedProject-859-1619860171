{
 "cells": [
  {
   "cell_type": "code",
   "execution_count": 1,
   "metadata": {},
   "outputs": [],
   "source": [
    "import pandas as pd\n",
    "import numpy as np"
   ]
  },
  {
   "cell_type": "code",
   "execution_count": 2,
   "metadata": {},
   "outputs": [],
   "source": [
    "d=pd.read_csv(\"titanic.csv\")"
   ]
  },
  {
   "cell_type": "code",
   "execution_count": 3,
   "metadata": {},
   "outputs": [
    {
     "data": {
      "text/html": [
       "<div>\n",
       "<style scoped>\n",
       "    .dataframe tbody tr th:only-of-type {\n",
       "        vertical-align: middle;\n",
       "    }\n",
       "\n",
       "    .dataframe tbody tr th {\n",
       "        vertical-align: top;\n",
       "    }\n",
       "\n",
       "    .dataframe thead th {\n",
       "        text-align: right;\n",
       "    }\n",
       "</style>\n",
       "<table border=\"1\" class=\"dataframe\">\n",
       "  <thead>\n",
       "    <tr style=\"text-align: right;\">\n",
       "      <th></th>\n",
       "      <th>Survived</th>\n",
       "      <th>Name</th>\n",
       "      <th>Sex</th>\n",
       "      <th>Siblings/Spouses Aboard</th>\n",
       "      <th>Parents/Children Aboard</th>\n",
       "      <th>Fare</th>\n",
       "      <th>Pclass</th>\n",
       "      <th>Age</th>\n",
       "    </tr>\n",
       "  </thead>\n",
       "  <tbody>\n",
       "    <tr>\n",
       "      <th>0</th>\n",
       "      <td>0</td>\n",
       "      <td>Mr. Owen Harris Braund</td>\n",
       "      <td>male</td>\n",
       "      <td>1</td>\n",
       "      <td>0</td>\n",
       "      <td>7.2500</td>\n",
       "      <td>3</td>\n",
       "      <td>22.0</td>\n",
       "    </tr>\n",
       "    <tr>\n",
       "      <th>1</th>\n",
       "      <td>1</td>\n",
       "      <td>Mrs. John Bradley (Florence Briggs Thayer) Cum...</td>\n",
       "      <td>female</td>\n",
       "      <td>1</td>\n",
       "      <td>0</td>\n",
       "      <td>71.2833</td>\n",
       "      <td>1</td>\n",
       "      <td>38.0</td>\n",
       "    </tr>\n",
       "    <tr>\n",
       "      <th>2</th>\n",
       "      <td>1</td>\n",
       "      <td>Miss. Laina Heikkinen</td>\n",
       "      <td>female</td>\n",
       "      <td>0</td>\n",
       "      <td>0</td>\n",
       "      <td>7.9250</td>\n",
       "      <td>3</td>\n",
       "      <td>26.0</td>\n",
       "    </tr>\n",
       "    <tr>\n",
       "      <th>3</th>\n",
       "      <td>1</td>\n",
       "      <td>Mrs. Jacques Heath (Lily May Peel) Futrelle</td>\n",
       "      <td>female</td>\n",
       "      <td>1</td>\n",
       "      <td>0</td>\n",
       "      <td>53.1000</td>\n",
       "      <td>1</td>\n",
       "      <td>35.0</td>\n",
       "    </tr>\n",
       "    <tr>\n",
       "      <th>4</th>\n",
       "      <td>0</td>\n",
       "      <td>Mr. William Henry Allen</td>\n",
       "      <td>male</td>\n",
       "      <td>0</td>\n",
       "      <td>0</td>\n",
       "      <td>8.0500</td>\n",
       "      <td>3</td>\n",
       "      <td>35.0</td>\n",
       "    </tr>\n",
       "  </tbody>\n",
       "</table>\n",
       "</div>"
      ],
      "text/plain": [
       "   Survived                                               Name     Sex  \\\n",
       "0         0                             Mr. Owen Harris Braund    male   \n",
       "1         1  Mrs. John Bradley (Florence Briggs Thayer) Cum...  female   \n",
       "2         1                              Miss. Laina Heikkinen  female   \n",
       "3         1        Mrs. Jacques Heath (Lily May Peel) Futrelle  female   \n",
       "4         0                            Mr. William Henry Allen    male   \n",
       "\n",
       "   Siblings/Spouses Aboard  Parents/Children Aboard     Fare  Pclass   Age  \n",
       "0                        1                        0   7.2500       3  22.0  \n",
       "1                        1                        0  71.2833       1  38.0  \n",
       "2                        0                        0   7.9250       3  26.0  \n",
       "3                        1                        0  53.1000       1  35.0  \n",
       "4                        0                        0   8.0500       3  35.0  "
      ]
     },
     "execution_count": 3,
     "metadata": {},
     "output_type": "execute_result"
    }
   ],
   "source": [
    "d.head()"
   ]
  },
  {
   "cell_type": "code",
   "execution_count": 6,
   "metadata": {},
   "outputs": [
    {
     "data": {
      "text/plain": [
       "Survived                   False\n",
       "Name                       False\n",
       "Sex                        False\n",
       "Siblings/Spouses Aboard    False\n",
       "Parents/Children Aboard    False\n",
       "Fare                       False\n",
       "Pclass                     False\n",
       "Age                        False\n",
       "dtype: bool"
      ]
     },
     "execution_count": 6,
     "metadata": {},
     "output_type": "execute_result"
    }
   ],
   "source": [
    "d.isnull().any()"
   ]
  },
  {
   "cell_type": "code",
   "execution_count": 7,
   "metadata": {},
   "outputs": [],
   "source": [
    "x=d.iloc[:,2:8].values\n",
    "y=d.iloc[:,0:1].values"
   ]
  },
  {
   "cell_type": "code",
   "execution_count": 12,
   "metadata": {},
   "outputs": [],
   "source": [
    "from sklearn.preprocessing import OneHotEncoder\n",
    "from sklearn.compose import ColumnTransformer\n",
    "ct = ColumnTransformer([(\"oh\", OneHotEncoder(),[0])],remainder = \"passthrough\") # conerts data to binary format\n",
    "x = ct.fit_transform(x)"
   ]
  },
  {
   "cell_type": "code",
   "execution_count": 15,
   "metadata": {},
   "outputs": [],
   "source": [
    "from sklearn.model_selection import train_test_split\n",
    "x_train,x_test,y_train,y_test  = train_test_split(x,y , test_size = 0.2 , random_state = 0)"
   ]
  },
  {
   "cell_type": "code",
   "execution_count": 17,
   "metadata": {},
   "outputs": [],
   "source": [
    "from sklearn.preprocessing import StandardScaler\n",
    "sc =StandardScaler()\n",
    "x_train = sc.fit_transform(x_train)\n",
    "x_test = sc.fit_transform(x_test)"
   ]
  },
  {
   "cell_type": "code",
   "execution_count": 19,
   "metadata": {},
   "outputs": [],
   "source": [
    "from tensorflow.keras.models import Sequential \n",
    "from tensorflow.keras.layers import Dense "
   ]
  },
  {
   "cell_type": "code",
   "execution_count": 20,
   "metadata": {},
   "outputs": [],
   "source": [
    "ann=Sequential()"
   ]
  },
  {
   "cell_type": "code",
   "execution_count": 21,
   "metadata": {},
   "outputs": [
    {
     "name": "stdout",
     "output_type": "stream",
     "text": [
      "WARNING:tensorflow:From C:\\ProgramData\\Anaconda3\\lib\\site-packages\\tensorflow\\python\\keras\\initializers.py:119: calling RandomUniform.__init__ (from tensorflow.python.ops.init_ops) with dtype is deprecated and will be removed in a future version.\n",
      "Instructions for updating:\n",
      "Call initializer instance with the dtype argument instead of passing it to the constructor\n"
     ]
    }
   ],
   "source": [
    "ann.add(Dense(7,kernel_initializer = \"random_uniform\", activation =\"relu\"))"
   ]
  },
  {
   "cell_type": "code",
   "execution_count": 22,
   "metadata": {},
   "outputs": [],
   "source": [
    "ann.add(Dense(14,kernel_initializer = \"random_uniform\", activation =\"relu\"))"
   ]
  },
  {
   "cell_type": "code",
   "execution_count": 23,
   "metadata": {},
   "outputs": [],
   "source": [
    "ann.add(Dense(1,kernel_initializer = \"random_uniform\", activation =\"sigmoid\"))"
   ]
  },
  {
   "cell_type": "code",
   "execution_count": 24,
   "metadata": {},
   "outputs": [],
   "source": [
    "ann.compile(\"adam\",\"binary_crossentropy\",metrics=[\"accuracy\"])"
   ]
  },
  {
   "cell_type": "code",
   "execution_count": 25,
   "metadata": {},
   "outputs": [
    {
     "name": "stdout",
     "output_type": "stream",
     "text": [
      "WARNING:tensorflow:From C:\\ProgramData\\Anaconda3\\lib\\site-packages\\tensorflow\\python\\ops\\nn_impl.py:180: add_dispatch_support.<locals>.wrapper (from tensorflow.python.ops.array_ops) is deprecated and will be removed in a future version.\n",
      "Instructions for updating:\n",
      "Use tf.where in 2.0, which has the same broadcast rule as np.where\n",
      "Epoch 1/40\n",
      "709/709 [==============================] - 0s 299us/sample - loss: 0.6916 - acc: 0.6037\n",
      "Epoch 2/40\n",
      "709/709 [==============================] - 0s 32us/sample - loss: 0.6860 - acc: 0.6037\n",
      "Epoch 3/40\n",
      "709/709 [==============================] - 0s 36us/sample - loss: 0.6697 - acc: 0.6037\n",
      "Epoch 4/40\n",
      "709/709 [==============================] - 0s 41us/sample - loss: 0.6342 - acc: 0.6037\n",
      "Epoch 5/40\n",
      "709/709 [==============================] - 0s 38us/sample - loss: 0.5852 - acc: 0.6671\n",
      "Epoch 6/40\n",
      "709/709 [==============================] - 0s 41us/sample - loss: 0.5471 - acc: 0.7814\n",
      "Epoch 7/40\n",
      "709/709 [==============================] - 0s 35us/sample - loss: 0.5280 - acc: 0.8082\n",
      "Epoch 8/40\n",
      "709/709 [==============================] - 0s 39us/sample - loss: 0.5181 - acc: 0.8039\n",
      "Epoch 9/40\n",
      "709/709 [==============================] - 0s 37us/sample - loss: 0.5087 - acc: 0.8011\n",
      "Epoch 10/40\n",
      "709/709 [==============================] - 0s 39us/sample - loss: 0.4983 - acc: 0.8025\n",
      "Epoch 11/40\n",
      "709/709 [==============================] - 0s 35us/sample - loss: 0.4892 - acc: 0.7983\n",
      "Epoch 12/40\n",
      "709/709 [==============================] - 0s 38us/sample - loss: 0.4801 - acc: 0.7983\n",
      "Epoch 13/40\n",
      "709/709 [==============================] - 0s 38us/sample - loss: 0.4719 - acc: 0.7955\n",
      "Epoch 14/40\n",
      "709/709 [==============================] - 0s 39us/sample - loss: 0.4651 - acc: 0.7969\n",
      "Epoch 15/40\n",
      "709/709 [==============================] - 0s 43us/sample - loss: 0.4583 - acc: 0.8025\n",
      "Epoch 16/40\n",
      "709/709 [==============================] - 0s 31us/sample - loss: 0.4516 - acc: 0.8054\n",
      "Epoch 17/40\n",
      "709/709 [==============================] - 0s 38us/sample - loss: 0.4465 - acc: 0.8054\n",
      "Epoch 18/40\n",
      "709/709 [==============================] - 0s 33us/sample - loss: 0.4420 - acc: 0.8054\n",
      "Epoch 19/40\n",
      "709/709 [==============================] - 0s 39us/sample - loss: 0.4383 - acc: 0.8039\n",
      "Epoch 20/40\n",
      "709/709 [==============================] - 0s 37us/sample - loss: 0.4349 - acc: 0.8054\n",
      "Epoch 21/40\n",
      "709/709 [==============================] - 0s 37us/sample - loss: 0.4327 - acc: 0.8068\n",
      "Epoch 22/40\n",
      "709/709 [==============================] - 0s 34us/sample - loss: 0.4305 - acc: 0.8096\n",
      "Epoch 23/40\n",
      "709/709 [==============================] - 0s 41us/sample - loss: 0.4287 - acc: 0.8096\n",
      "Epoch 24/40\n",
      "709/709 [==============================] - 0s 39us/sample - loss: 0.4272 - acc: 0.8124\n",
      "Epoch 25/40\n",
      "709/709 [==============================] - 0s 34us/sample - loss: 0.4258 - acc: 0.8124\n",
      "Epoch 26/40\n",
      "709/709 [==============================] - 0s 39us/sample - loss: 0.4243 - acc: 0.8152\n",
      "Epoch 27/40\n",
      "709/709 [==============================] - 0s 40us/sample - loss: 0.4225 - acc: 0.8166\n",
      "Epoch 28/40\n",
      "709/709 [==============================] - 0s 38us/sample - loss: 0.4221 - acc: 0.8166\n",
      "Epoch 29/40\n",
      "709/709 [==============================] - 0s 44us/sample - loss: 0.4212 - acc: 0.8181\n",
      "Epoch 30/40\n",
      "709/709 [==============================] - 0s 35us/sample - loss: 0.4197 - acc: 0.8223\n",
      "Epoch 31/40\n",
      "709/709 [==============================] - 0s 39us/sample - loss: 0.4240 - acc: 0.8195\n",
      "Epoch 32/40\n",
      "709/709 [==============================] - 0s 44us/sample - loss: 0.4174 - acc: 0.8223\n",
      "Epoch 33/40\n",
      "709/709 [==============================] - 0s 39us/sample - loss: 0.4180 - acc: 0.8209\n",
      "Epoch 34/40\n",
      "709/709 [==============================] - 0s 35us/sample - loss: 0.4172 - acc: 0.8237\n",
      "Epoch 35/40\n",
      "709/709 [==============================] - 0s 40us/sample - loss: 0.4165 - acc: 0.8209\n",
      "Epoch 36/40\n",
      "709/709 [==============================] - 0s 39us/sample - loss: 0.4167 - acc: 0.8223\n",
      "Epoch 37/40\n",
      "709/709 [==============================] - 0s 35us/sample - loss: 0.4158 - acc: 0.8209\n",
      "Epoch 38/40\n",
      "709/709 [==============================] - 0s 38us/sample - loss: 0.4166 - acc: 0.8237\n",
      "Epoch 39/40\n",
      "709/709 [==============================] - 0s 41us/sample - loss: 0.4147 - acc: 0.8209\n",
      "Epoch 40/40\n",
      "709/709 [==============================] - 0s 45us/sample - loss: 0.4148 - acc: 0.8195\n"
     ]
    },
    {
     "data": {
      "text/plain": [
       "<tensorflow.python.keras.callbacks.History at 0x10f6b1b4588>"
      ]
     },
     "execution_count": 25,
     "metadata": {},
     "output_type": "execute_result"
    }
   ],
   "source": [
    "ann.fit(x_train,y_train,batch_size=32,epochs=40)"
   ]
  },
  {
   "cell_type": "code",
   "execution_count": 26,
   "metadata": {},
   "outputs": [],
   "source": [
    "ypred=ann.predict(x_test)"
   ]
  },
  {
   "cell_type": "code",
   "execution_count": 30,
   "metadata": {},
   "outputs": [
    {
     "data": {
      "text/html": [
       "<div>\n",
       "<style scoped>\n",
       "    .dataframe tbody tr th:only-of-type {\n",
       "        vertical-align: middle;\n",
       "    }\n",
       "\n",
       "    .dataframe tbody tr th {\n",
       "        vertical-align: top;\n",
       "    }\n",
       "\n",
       "    .dataframe thead th {\n",
       "        text-align: right;\n",
       "    }\n",
       "</style>\n",
       "<table border=\"1\" class=\"dataframe\">\n",
       "  <thead>\n",
       "    <tr style=\"text-align: right;\">\n",
       "      <th></th>\n",
       "      <th>Survived</th>\n",
       "      <th>Name</th>\n",
       "      <th>Sex</th>\n",
       "      <th>Siblings/Spouses Aboard</th>\n",
       "      <th>Parents/Children Aboard</th>\n",
       "      <th>Fare</th>\n",
       "      <th>Pclass</th>\n",
       "      <th>Age</th>\n",
       "    </tr>\n",
       "  </thead>\n",
       "  <tbody>\n",
       "    <tr>\n",
       "      <th>0</th>\n",
       "      <td>0</td>\n",
       "      <td>Mr. Owen Harris Braund</td>\n",
       "      <td>male</td>\n",
       "      <td>1</td>\n",
       "      <td>0</td>\n",
       "      <td>7.25</td>\n",
       "      <td>3</td>\n",
       "      <td>22.0</td>\n",
       "    </tr>\n",
       "  </tbody>\n",
       "</table>\n",
       "</div>"
      ],
      "text/plain": [
       "   Survived                    Name   Sex  Siblings/Spouses Aboard  \\\n",
       "0         0  Mr. Owen Harris Braund  male                        1   \n",
       "\n",
       "   Parents/Children Aboard  Fare  Pclass   Age  \n",
       "0                        0  7.25       3  22.0  "
      ]
     },
     "execution_count": 30,
     "metadata": {},
     "output_type": "execute_result"
    }
   ],
   "source": [
    "d.head(1)"
   ]
  },
  {
   "cell_type": "code",
   "execution_count": 31,
   "metadata": {},
   "outputs": [],
   "source": [
    "yp=ann.predict(sc.transform(ct.transform([[\"male\",1,0,7.25,3,22]])))"
   ]
  },
  {
   "cell_type": "code",
   "execution_count": 32,
   "metadata": {},
   "outputs": [
    {
     "data": {
      "text/plain": [
       "array([[0.11278737]], dtype=float32)"
      ]
     },
     "execution_count": 32,
     "metadata": {},
     "output_type": "execute_result"
    }
   ],
   "source": [
    "yp"
   ]
  },
  {
   "cell_type": "code",
   "execution_count": 33,
   "metadata": {},
   "outputs": [
    {
     "data": {
      "text/plain": [
       "array([[False]])"
      ]
     },
     "execution_count": 33,
     "metadata": {},
     "output_type": "execute_result"
    }
   ],
   "source": [
    "yp>0.5"
   ]
  },
  {
   "cell_type": "code",
   "execution_count": 34,
   "metadata": {},
   "outputs": [
    {
     "data": {
      "text/html": [
       "<div>\n",
       "<style scoped>\n",
       "    .dataframe tbody tr th:only-of-type {\n",
       "        vertical-align: middle;\n",
       "    }\n",
       "\n",
       "    .dataframe tbody tr th {\n",
       "        vertical-align: top;\n",
       "    }\n",
       "\n",
       "    .dataframe thead th {\n",
       "        text-align: right;\n",
       "    }\n",
       "</style>\n",
       "<table border=\"1\" class=\"dataframe\">\n",
       "  <thead>\n",
       "    <tr style=\"text-align: right;\">\n",
       "      <th></th>\n",
       "      <th>Survived</th>\n",
       "      <th>Name</th>\n",
       "      <th>Sex</th>\n",
       "      <th>Siblings/Spouses Aboard</th>\n",
       "      <th>Parents/Children Aboard</th>\n",
       "      <th>Fare</th>\n",
       "      <th>Pclass</th>\n",
       "      <th>Age</th>\n",
       "    </tr>\n",
       "  </thead>\n",
       "  <tbody>\n",
       "    <tr>\n",
       "      <th>0</th>\n",
       "      <td>0</td>\n",
       "      <td>Mr. Owen Harris Braund</td>\n",
       "      <td>male</td>\n",
       "      <td>1</td>\n",
       "      <td>0</td>\n",
       "      <td>7.2500</td>\n",
       "      <td>3</td>\n",
       "      <td>22.0</td>\n",
       "    </tr>\n",
       "    <tr>\n",
       "      <th>1</th>\n",
       "      <td>1</td>\n",
       "      <td>Mrs. John Bradley (Florence Briggs Thayer) Cum...</td>\n",
       "      <td>female</td>\n",
       "      <td>1</td>\n",
       "      <td>0</td>\n",
       "      <td>71.2833</td>\n",
       "      <td>1</td>\n",
       "      <td>38.0</td>\n",
       "    </tr>\n",
       "    <tr>\n",
       "      <th>2</th>\n",
       "      <td>1</td>\n",
       "      <td>Miss. Laina Heikkinen</td>\n",
       "      <td>female</td>\n",
       "      <td>0</td>\n",
       "      <td>0</td>\n",
       "      <td>7.9250</td>\n",
       "      <td>3</td>\n",
       "      <td>26.0</td>\n",
       "    </tr>\n",
       "    <tr>\n",
       "      <th>3</th>\n",
       "      <td>1</td>\n",
       "      <td>Mrs. Jacques Heath (Lily May Peel) Futrelle</td>\n",
       "      <td>female</td>\n",
       "      <td>1</td>\n",
       "      <td>0</td>\n",
       "      <td>53.1000</td>\n",
       "      <td>1</td>\n",
       "      <td>35.0</td>\n",
       "    </tr>\n",
       "    <tr>\n",
       "      <th>4</th>\n",
       "      <td>0</td>\n",
       "      <td>Mr. William Henry Allen</td>\n",
       "      <td>male</td>\n",
       "      <td>0</td>\n",
       "      <td>0</td>\n",
       "      <td>8.0500</td>\n",
       "      <td>3</td>\n",
       "      <td>35.0</td>\n",
       "    </tr>\n",
       "  </tbody>\n",
       "</table>\n",
       "</div>"
      ],
      "text/plain": [
       "   Survived                                               Name     Sex  \\\n",
       "0         0                             Mr. Owen Harris Braund    male   \n",
       "1         1  Mrs. John Bradley (Florence Briggs Thayer) Cum...  female   \n",
       "2         1                              Miss. Laina Heikkinen  female   \n",
       "3         1        Mrs. Jacques Heath (Lily May Peel) Futrelle  female   \n",
       "4         0                            Mr. William Henry Allen    male   \n",
       "\n",
       "   Siblings/Spouses Aboard  Parents/Children Aboard     Fare  Pclass   Age  \n",
       "0                        1                        0   7.2500       3  22.0  \n",
       "1                        1                        0  71.2833       1  38.0  \n",
       "2                        0                        0   7.9250       3  26.0  \n",
       "3                        1                        0  53.1000       1  35.0  \n",
       "4                        0                        0   8.0500       3  35.0  "
      ]
     },
     "execution_count": 34,
     "metadata": {},
     "output_type": "execute_result"
    }
   ],
   "source": [
    "d.head()"
   ]
  },
  {
   "cell_type": "code",
   "execution_count": 35,
   "metadata": {},
   "outputs": [],
   "source": [
    "yp=ann.predict(sc.transform(ct.transform([[\"female\",1,0,71.2833,1,38]])))"
   ]
  },
  {
   "cell_type": "code",
   "execution_count": 36,
   "metadata": {},
   "outputs": [
    {
     "data": {
      "text/plain": [
       "array([[0.96325874]], dtype=float32)"
      ]
     },
     "execution_count": 36,
     "metadata": {},
     "output_type": "execute_result"
    }
   ],
   "source": [
    "yp"
   ]
  },
  {
   "cell_type": "code",
   "execution_count": 37,
   "metadata": {},
   "outputs": [
    {
     "data": {
      "text/plain": [
       "array([[ True]])"
      ]
     },
     "execution_count": 37,
     "metadata": {},
     "output_type": "execute_result"
    }
   ],
   "source": [
    "yp>0.5"
   ]
  },
  {
   "cell_type": "code",
   "execution_count": null,
   "metadata": {},
   "outputs": [],
   "source": []
  }
 ],
 "metadata": {
  "kernelspec": {
   "display_name": "Python 3",
   "language": "python",
   "name": "python3"
  },
  "language_info": {
   "codemirror_mode": {
    "name": "ipython",
    "version": 3
   },
   "file_extension": ".py",
   "mimetype": "text/x-python",
   "name": "python",
   "nbconvert_exporter": "python",
   "pygments_lexer": "ipython3",
   "version": "3.8.8"
  }
 },
 "nbformat": 4,
 "nbformat_minor": 2
}
