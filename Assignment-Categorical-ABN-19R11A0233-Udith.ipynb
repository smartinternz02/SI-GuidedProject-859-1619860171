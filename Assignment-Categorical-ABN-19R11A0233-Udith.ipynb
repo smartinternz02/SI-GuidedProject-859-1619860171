{
 "cells": [
  {
   "cell_type": "code",
   "execution_count": 1,
   "metadata": {},
   "outputs": [],
   "source": [
    "import pandas as pd\n",
    "import numpy as np"
   ]
  },
  {
   "cell_type": "code",
   "execution_count": 2,
   "metadata": {},
   "outputs": [],
   "source": [
    "d=pd.read_csv(r\"abalone_data.csv\")"
   ]
  },
  {
   "cell_type": "code",
   "execution_count": 3,
   "metadata": {},
   "outputs": [
    {
     "data": {
      "text/html": [
       "<div>\n",
       "<style scoped>\n",
       "    .dataframe tbody tr th:only-of-type {\n",
       "        vertical-align: middle;\n",
       "    }\n",
       "\n",
       "    .dataframe tbody tr th {\n",
       "        vertical-align: top;\n",
       "    }\n",
       "\n",
       "    .dataframe thead th {\n",
       "        text-align: right;\n",
       "    }\n",
       "</style>\n",
       "<table border=\"1\" class=\"dataframe\">\n",
       "  <thead>\n",
       "    <tr style=\"text-align: right;\">\n",
       "      <th></th>\n",
       "      <th>column_a</th>\n",
       "      <th>column_b</th>\n",
       "      <th>column_c</th>\n",
       "      <th>column_d</th>\n",
       "      <th>column_e</th>\n",
       "      <th>column_f</th>\n",
       "      <th>column_g</th>\n",
       "      <th>column_h</th>\n",
       "      <th>column_i</th>\n",
       "    </tr>\n",
       "  </thead>\n",
       "  <tbody>\n",
       "    <tr>\n",
       "      <th>0</th>\n",
       "      <td>M</td>\n",
       "      <td>0.455</td>\n",
       "      <td>0.365</td>\n",
       "      <td>0.095</td>\n",
       "      <td>0.5140</td>\n",
       "      <td>0.2245</td>\n",
       "      <td>0.1010</td>\n",
       "      <td>0.150</td>\n",
       "      <td>15.0</td>\n",
       "    </tr>\n",
       "    <tr>\n",
       "      <th>1</th>\n",
       "      <td>M</td>\n",
       "      <td>0.350</td>\n",
       "      <td>0.265</td>\n",
       "      <td>0.090</td>\n",
       "      <td>0.2255</td>\n",
       "      <td>0.0995</td>\n",
       "      <td>0.0485</td>\n",
       "      <td>0.070</td>\n",
       "      <td>7.0</td>\n",
       "    </tr>\n",
       "    <tr>\n",
       "      <th>2</th>\n",
       "      <td>F</td>\n",
       "      <td>0.530</td>\n",
       "      <td>0.420</td>\n",
       "      <td>0.135</td>\n",
       "      <td>0.6770</td>\n",
       "      <td>0.2565</td>\n",
       "      <td>0.1415</td>\n",
       "      <td>0.210</td>\n",
       "      <td>9.0</td>\n",
       "    </tr>\n",
       "    <tr>\n",
       "      <th>3</th>\n",
       "      <td>M</td>\n",
       "      <td>0.440</td>\n",
       "      <td>0.365</td>\n",
       "      <td>0.125</td>\n",
       "      <td>0.5160</td>\n",
       "      <td>0.2155</td>\n",
       "      <td>0.1140</td>\n",
       "      <td>0.155</td>\n",
       "      <td>10.0</td>\n",
       "    </tr>\n",
       "    <tr>\n",
       "      <th>4</th>\n",
       "      <td>I</td>\n",
       "      <td>0.330</td>\n",
       "      <td>0.255</td>\n",
       "      <td>0.080</td>\n",
       "      <td>0.2050</td>\n",
       "      <td>0.0895</td>\n",
       "      <td>0.0395</td>\n",
       "      <td>0.055</td>\n",
       "      <td>7.0</td>\n",
       "    </tr>\n",
       "  </tbody>\n",
       "</table>\n",
       "</div>"
      ],
      "text/plain": [
       "  column_a  column_b  column_c  column_d  column_e  column_f  column_g  \\\n",
       "0        M     0.455     0.365     0.095    0.5140    0.2245    0.1010   \n",
       "1        M     0.350     0.265     0.090    0.2255    0.0995    0.0485   \n",
       "2        F     0.530     0.420     0.135    0.6770    0.2565    0.1415   \n",
       "3        M     0.440     0.365     0.125    0.5160    0.2155    0.1140   \n",
       "4        I     0.330     0.255     0.080    0.2050    0.0895    0.0395   \n",
       "\n",
       "   column_h  column_i  \n",
       "0     0.150      15.0  \n",
       "1     0.070       7.0  \n",
       "2     0.210       9.0  \n",
       "3     0.155      10.0  \n",
       "4     0.055       7.0  "
      ]
     },
     "execution_count": 3,
     "metadata": {},
     "output_type": "execute_result"
    }
   ],
   "source": [
    "d.head()"
   ]
  },
  {
   "cell_type": "code",
   "execution_count": 4,
   "metadata": {},
   "outputs": [
    {
     "data": {
      "text/plain": [
       "array(['M', 'F', 'I'], dtype=object)"
      ]
     },
     "execution_count": 4,
     "metadata": {},
     "output_type": "execute_result"
    }
   ],
   "source": [
    "d[\"column_a\"].unique()"
   ]
  },
  {
   "cell_type": "code",
   "execution_count": 5,
   "metadata": {},
   "outputs": [
    {
     "data": {
      "text/plain": [
       "column_a    0\n",
       "column_b    0\n",
       "column_c    0\n",
       "column_d    0\n",
       "column_e    1\n",
       "column_f    1\n",
       "column_g    1\n",
       "column_h    1\n",
       "column_i    1\n",
       "dtype: int64"
      ]
     },
     "execution_count": 5,
     "metadata": {},
     "output_type": "execute_result"
    }
   ],
   "source": [
    "d.isnull().sum()"
   ]
  },
  {
   "cell_type": "code",
   "execution_count": 6,
   "metadata": {},
   "outputs": [],
   "source": [
    "d[\"column_e\"].fillna(d[\"column_e\"].mean(),inplace=True)\n",
    "d[\"column_f\"].fillna(d[\"column_f\"].mean(),inplace=True)\n",
    "d[\"column_g\"].fillna(d[\"column_g\"].mean(),inplace=True)\n",
    "d[\"column_h\"].fillna(d[\"column_h\"].mean(),inplace=True)\n",
    "d[\"column_i\"].fillna(d[\"column_i\"].mean(),inplace=True)"
   ]
  },
  {
   "cell_type": "code",
   "execution_count": 12,
   "metadata": {},
   "outputs": [],
   "source": [
    "x=d.iloc[:,1:8].values\n",
    "y=d.iloc[:,0:1].values"
   ]
  },
  {
   "cell_type": "code",
   "execution_count": 14,
   "metadata": {},
   "outputs": [
    {
     "data": {
      "text/plain": [
       "array([['M'],\n",
       "       ['M'],\n",
       "       ['F'],\n",
       "       ...,\n",
       "       ['I'],\n",
       "       ['I'],\n",
       "       ['M']], dtype=object)"
      ]
     },
     "execution_count": 14,
     "metadata": {},
     "output_type": "execute_result"
    }
   ],
   "source": [
    "y"
   ]
  },
  {
   "cell_type": "code",
   "execution_count": 15,
   "metadata": {},
   "outputs": [],
   "source": [
    "from sklearn.compose import ColumnTransformer\n",
    "from sklearn.preprocessing import OneHotEncoder\n",
    "one = OneHotEncoder()\n",
    "z = one.fit_transform(y[:,0:1]).toarray()\n",
    "y = np.delete(y,0,axis = 1)\n",
    "y = np.concatenate((z,y),axis = 1)"
   ]
  },
  {
   "cell_type": "code",
   "execution_count": 18,
   "metadata": {},
   "outputs": [],
   "source": [
    "from sklearn.model_selection import train_test_split\n",
    "x_train,x_test,y_train,y_test = train_test_split(x,y,test_size=0.2,random_state=0)"
   ]
  },
  {
   "cell_type": "code",
   "execution_count": 19,
   "metadata": {},
   "outputs": [],
   "source": [
    "x_train = np.asarray(x_train).astype('float32')\n",
    "x_test = np.asarray(x_test).astype('float32')\n",
    "y_train = np.asarray(y_train).astype('float32')\n",
    "y_test = np.asarray(y_test).astype('float32')"
   ]
  },
  {
   "cell_type": "code",
   "execution_count": 20,
   "metadata": {},
   "outputs": [],
   "source": [
    "from sklearn.preprocessing import StandardScaler\n",
    "sc = StandardScaler()\n",
    "x_train = sc.fit_transform(x_train)\n",
    "x_test = sc.fit_transform(x_test)"
   ]
  },
  {
   "cell_type": "code",
   "execution_count": 29,
   "metadata": {},
   "outputs": [
    {
     "data": {
      "text/plain": [
       "(2568, 3)"
      ]
     },
     "execution_count": 29,
     "metadata": {},
     "output_type": "execute_result"
    }
   ],
   "source": [
    "y_train.shape"
   ]
  },
  {
   "cell_type": "code",
   "execution_count": 22,
   "metadata": {},
   "outputs": [],
   "source": [
    "from tensorflow.keras.models import Sequential\n",
    "from tensorflow.keras.layers import Dense"
   ]
  },
  {
   "cell_type": "code",
   "execution_count": 23,
   "metadata": {},
   "outputs": [],
   "source": [
    "cat = Sequential()"
   ]
  },
  {
   "cell_type": "code",
   "execution_count": 24,
   "metadata": {},
   "outputs": [],
   "source": [
    "cat.add(Dense(7,kernel_initializer = \"random_uniform\",activation =\"relu\"))"
   ]
  },
  {
   "cell_type": "code",
   "execution_count": 25,
   "metadata": {},
   "outputs": [],
   "source": [
    "cat.add(Dense(14,kernel_initializer = \"random_uniform\",activation =\"relu\"))"
   ]
  },
  {
   "cell_type": "code",
   "execution_count": 30,
   "metadata": {},
   "outputs": [],
   "source": [
    "cat.add(Dense(3,kernel_initializer = \"random_uniform\",activation =\"softmax\"))"
   ]
  },
  {
   "cell_type": "code",
   "execution_count": 31,
   "metadata": {},
   "outputs": [],
   "source": [
    "cat.compile(\"adam\",\"categorical_crossentropy\",metrics = [\"accuracy\"])"
   ]
  },
  {
   "cell_type": "code",
   "execution_count": 34,
   "metadata": {},
   "outputs": [
    {
     "name": "stdout",
     "output_type": "stream",
     "text": [
      "Epoch 1/100\n",
      "81/81 [==============================] - 0s 2ms/step - loss: 1.0948 - accuracy: 0.3762\n",
      "Epoch 2/100\n",
      "81/81 [==============================] - 0s 2ms/step - loss: 1.0948 - accuracy: 0.3762\n",
      "Epoch 3/100\n",
      "81/81 [==============================] - 0s 2ms/step - loss: 1.0950 - accuracy: 0.3762\n",
      "Epoch 4/100\n",
      "81/81 [==============================] - 0s 2ms/step - loss: 1.0947 - accuracy: 0.3762\n",
      "Epoch 5/100\n",
      "81/81 [==============================] - 0s 2ms/step - loss: 1.0947 - accuracy: 0.3762\n",
      "Epoch 6/100\n",
      "81/81 [==============================] - 0s 2ms/step - loss: 1.0948 - accuracy: 0.3762\n",
      "Epoch 7/100\n",
      "81/81 [==============================] - 0s 2ms/step - loss: 1.0948 - accuracy: 0.3762\n",
      "Epoch 8/100\n",
      "81/81 [==============================] - 0s 2ms/step - loss: 1.0948 - accuracy: 0.3762\n",
      "Epoch 9/100\n",
      "81/81 [==============================] - 0s 2ms/step - loss: 1.0948 - accuracy: 0.3762\n",
      "Epoch 10/100\n",
      "81/81 [==============================] - 0s 2ms/step - loss: 1.0947 - accuracy: 0.3762\n",
      "Epoch 11/100\n",
      "81/81 [==============================] - 0s 2ms/step - loss: 1.0948 - accuracy: 0.3762\n",
      "Epoch 12/100\n",
      "81/81 [==============================] - 0s 2ms/step - loss: 1.0947 - accuracy: 0.3762\n",
      "Epoch 13/100\n",
      "81/81 [==============================] - 0s 2ms/step - loss: 1.0950 - accuracy: 0.3762\n",
      "Epoch 14/100\n",
      "81/81 [==============================] - 0s 2ms/step - loss: 1.0947 - accuracy: 0.3762\n",
      "Epoch 15/100\n",
      "81/81 [==============================] - 0s 2ms/step - loss: 1.0947 - accuracy: 0.3762\n",
      "Epoch 16/100\n",
      "81/81 [==============================] - 0s 2ms/step - loss: 1.0948 - accuracy: 0.3762\n",
      "Epoch 17/100\n",
      "81/81 [==============================] - 0s 2ms/step - loss: 1.0948 - accuracy: 0.3762\n",
      "Epoch 18/100\n",
      "81/81 [==============================] - 0s 2ms/step - loss: 1.0948 - accuracy: 0.3762\n",
      "Epoch 19/100\n",
      "81/81 [==============================] - 0s 2ms/step - loss: 1.0948 - accuracy: 0.3762\n",
      "Epoch 20/100\n",
      "81/81 [==============================] - 0s 2ms/step - loss: 1.0947 - accuracy: 0.3762\n",
      "Epoch 21/100\n",
      "81/81 [==============================] - 0s 2ms/step - loss: 1.0947 - accuracy: 0.3762\n",
      "Epoch 22/100\n",
      "81/81 [==============================] - 0s 2ms/step - loss: 1.0948 - accuracy: 0.3762\n",
      "Epoch 23/100\n",
      "81/81 [==============================] - 0s 2ms/step - loss: 1.0947 - accuracy: 0.3762\n",
      "Epoch 24/100\n",
      "81/81 [==============================] - 0s 2ms/step - loss: 1.0947 - accuracy: 0.3762\n",
      "Epoch 25/100\n",
      "81/81 [==============================] - 0s 2ms/step - loss: 1.0948 - accuracy: 0.3762\n",
      "Epoch 26/100\n",
      "81/81 [==============================] - 0s 2ms/step - loss: 1.0948 - accuracy: 0.3762\n",
      "Epoch 27/100\n",
      "81/81 [==============================] - 0s 2ms/step - loss: 1.0948 - accuracy: 0.3762\n",
      "Epoch 28/100\n",
      "81/81 [==============================] - 0s 2ms/step - loss: 1.0947 - accuracy: 0.3762\n",
      "Epoch 29/100\n",
      "81/81 [==============================] - 0s 2ms/step - loss: 1.0947 - accuracy: 0.3762\n",
      "Epoch 30/100\n",
      "81/81 [==============================] - 0s 2ms/step - loss: 1.0947 - accuracy: 0.3762\n",
      "Epoch 31/100\n",
      "81/81 [==============================] - 0s 2ms/step - loss: 1.0948 - accuracy: 0.3762\n",
      "Epoch 32/100\n",
      "81/81 [==============================] - 0s 2ms/step - loss: 1.0947 - accuracy: 0.3762\n",
      "Epoch 33/100\n",
      "81/81 [==============================] - 0s 2ms/step - loss: 1.0948 - accuracy: 0.3762\n",
      "Epoch 34/100\n",
      "81/81 [==============================] - 0s 2ms/step - loss: 1.0947 - accuracy: 0.3762\n",
      "Epoch 35/100\n",
      "81/81 [==============================] - 0s 2ms/step - loss: 1.0947 - accuracy: 0.3762\n",
      "Epoch 36/100\n",
      "81/81 [==============================] - 0s 2ms/step - loss: 1.0947 - accuracy: 0.3762\n",
      "Epoch 37/100\n",
      "81/81 [==============================] - 0s 2ms/step - loss: 1.0948 - accuracy: 0.3762\n",
      "Epoch 38/100\n",
      "81/81 [==============================] - 0s 2ms/step - loss: 1.0949 - accuracy: 0.3762\n",
      "Epoch 39/100\n",
      "81/81 [==============================] - 0s 2ms/step - loss: 1.0948 - accuracy: 0.3762\n",
      "Epoch 40/100\n",
      "81/81 [==============================] - 0s 2ms/step - loss: 1.0948 - accuracy: 0.3762\n",
      "Epoch 41/100\n",
      "81/81 [==============================] - 0s 2ms/step - loss: 1.0949 - accuracy: 0.3762\n",
      "Epoch 42/100\n",
      "81/81 [==============================] - 0s 2ms/step - loss: 1.0948 - accuracy: 0.3762\n",
      "Epoch 43/100\n",
      "81/81 [==============================] - 0s 2ms/step - loss: 1.0947 - accuracy: 0.3762\n",
      "Epoch 44/100\n",
      "81/81 [==============================] - 0s 2ms/step - loss: 1.0948 - accuracy: 0.3762\n",
      "Epoch 45/100\n",
      "81/81 [==============================] - 0s 2ms/step - loss: 1.0947 - accuracy: 0.3762\n",
      "Epoch 46/100\n",
      "81/81 [==============================] - 0s 2ms/step - loss: 1.0948 - accuracy: 0.3762\n",
      "Epoch 47/100\n",
      "81/81 [==============================] - 0s 2ms/step - loss: 1.0949 - accuracy: 0.3762\n",
      "Epoch 48/100\n",
      "81/81 [==============================] - 0s 2ms/step - loss: 1.0947 - accuracy: 0.3762\n",
      "Epoch 49/100\n",
      "81/81 [==============================] - 0s 2ms/step - loss: 1.0948 - accuracy: 0.3762\n",
      "Epoch 50/100\n",
      "81/81 [==============================] - 0s 2ms/step - loss: 1.0947 - accuracy: 0.3762\n",
      "Epoch 51/100\n",
      "81/81 [==============================] - 0s 3ms/step - loss: 1.0947 - accuracy: 0.3762\n",
      "Epoch 52/100\n",
      "81/81 [==============================] - 0s 2ms/step - loss: 1.0947 - accuracy: 0.3762\n",
      "Epoch 53/100\n",
      "81/81 [==============================] - 0s 2ms/step - loss: 1.0947 - accuracy: 0.3762\n",
      "Epoch 54/100\n",
      "81/81 [==============================] - 0s 2ms/step - loss: 1.0947 - accuracy: 0.3762\n",
      "Epoch 55/100\n",
      "81/81 [==============================] - 0s 2ms/step - loss: 1.0948 - accuracy: 0.3762\n",
      "Epoch 56/100\n",
      "81/81 [==============================] - 0s 2ms/step - loss: 1.0948 - accuracy: 0.3762\n",
      "Epoch 57/100\n",
      "81/81 [==============================] - 0s 2ms/step - loss: 1.0947 - accuracy: 0.3762\n",
      "Epoch 58/100\n",
      "81/81 [==============================] - 0s 2ms/step - loss: 1.0947 - accuracy: 0.3762\n",
      "Epoch 59/100\n",
      "81/81 [==============================] - 0s 2ms/step - loss: 1.0947 - accuracy: 0.3762\n",
      "Epoch 60/100\n",
      "81/81 [==============================] - 0s 2ms/step - loss: 1.0947 - accuracy: 0.3762\n",
      "Epoch 61/100\n",
      "81/81 [==============================] - 0s 2ms/step - loss: 1.0947 - accuracy: 0.3762\n",
      "Epoch 62/100\n",
      "81/81 [==============================] - 0s 2ms/step - loss: 1.0949 - accuracy: 0.3762\n",
      "Epoch 63/100\n",
      "81/81 [==============================] - 0s 2ms/step - loss: 1.0947 - accuracy: 0.3762\n",
      "Epoch 64/100\n",
      "81/81 [==============================] - 0s 2ms/step - loss: 1.0948 - accuracy: 0.3762\n",
      "Epoch 65/100\n",
      "81/81 [==============================] - 0s 2ms/step - loss: 1.0948 - accuracy: 0.3762\n",
      "Epoch 66/100\n",
      "81/81 [==============================] - 0s 2ms/step - loss: 1.0947 - accuracy: 0.3762\n",
      "Epoch 67/100\n",
      "81/81 [==============================] - 0s 2ms/step - loss: 1.0948 - accuracy: 0.3762\n",
      "Epoch 68/100\n",
      "81/81 [==============================] - 0s 2ms/step - loss: 1.0947 - accuracy: 0.3762\n",
      "Epoch 69/100\n",
      "81/81 [==============================] - 0s 2ms/step - loss: 1.0948 - accuracy: 0.3762\n",
      "Epoch 70/100\n",
      "81/81 [==============================] - 0s 2ms/step - loss: 1.0947 - accuracy: 0.3762\n",
      "Epoch 71/100\n",
      "81/81 [==============================] - 0s 2ms/step - loss: 1.0948 - accuracy: 0.3762\n",
      "Epoch 72/100\n",
      "81/81 [==============================] - 0s 2ms/step - loss: 1.0948 - accuracy: 0.3762\n",
      "Epoch 73/100\n",
      "81/81 [==============================] - 0s 2ms/step - loss: 1.0947 - accuracy: 0.3762\n",
      "Epoch 74/100\n",
      "81/81 [==============================] - 0s 2ms/step - loss: 1.0948 - accuracy: 0.3762\n",
      "Epoch 75/100\n",
      "81/81 [==============================] - 0s 2ms/step - loss: 1.0947 - accuracy: 0.3762\n",
      "Epoch 76/100\n",
      "81/81 [==============================] - 0s 2ms/step - loss: 1.0948 - accuracy: 0.3762\n",
      "Epoch 77/100\n",
      "81/81 [==============================] - 0s 2ms/step - loss: 1.0948 - accuracy: 0.3762\n",
      "Epoch 78/100\n",
      "81/81 [==============================] - 0s 2ms/step - loss: 1.0948 - accuracy: 0.3762\n",
      "Epoch 79/100\n",
      "81/81 [==============================] - 0s 2ms/step - loss: 1.0947 - accuracy: 0.3762\n",
      "Epoch 80/100\n",
      "81/81 [==============================] - 0s 2ms/step - loss: 1.0948 - accuracy: 0.3762\n",
      "Epoch 81/100\n",
      "81/81 [==============================] - 0s 2ms/step - loss: 1.0947 - accuracy: 0.3762\n",
      "Epoch 82/100\n",
      "81/81 [==============================] - 0s 2ms/step - loss: 1.0947 - accuracy: 0.3762\n",
      "Epoch 83/100\n"
     ]
    },
    {
     "name": "stdout",
     "output_type": "stream",
     "text": [
      "81/81 [==============================] - 0s 2ms/step - loss: 1.0947 - accuracy: 0.3762\n",
      "Epoch 84/100\n",
      "81/81 [==============================] - 0s 2ms/step - loss: 1.0947 - accuracy: 0.3762\n",
      "Epoch 85/100\n",
      "81/81 [==============================] - 0s 2ms/step - loss: 1.0948 - accuracy: 0.3762\n",
      "Epoch 86/100\n",
      "81/81 [==============================] - 0s 2ms/step - loss: 1.0947 - accuracy: 0.3762\n",
      "Epoch 87/100\n",
      "81/81 [==============================] - 0s 2ms/step - loss: 1.0947 - accuracy: 0.3762\n",
      "Epoch 88/100\n",
      "81/81 [==============================] - 0s 2ms/step - loss: 1.0948 - accuracy: 0.3762\n",
      "Epoch 89/100\n",
      "81/81 [==============================] - 0s 2ms/step - loss: 1.0947 - accuracy: 0.3762\n",
      "Epoch 90/100\n",
      "81/81 [==============================] - 0s 2ms/step - loss: 1.0948 - accuracy: 0.3762\n",
      "Epoch 91/100\n",
      "81/81 [==============================] - 0s 2ms/step - loss: 1.0947 - accuracy: 0.3762\n",
      "Epoch 92/100\n",
      "81/81 [==============================] - 0s 2ms/step - loss: 1.0947 - accuracy: 0.3762\n",
      "Epoch 93/100\n",
      "81/81 [==============================] - 0s 2ms/step - loss: 1.0947 - accuracy: 0.3762\n",
      "Epoch 94/100\n",
      "81/81 [==============================] - 0s 2ms/step - loss: 1.0948 - accuracy: 0.3762\n",
      "Epoch 95/100\n",
      "81/81 [==============================] - 0s 2ms/step - loss: 1.0948 - accuracy: 0.3762\n",
      "Epoch 96/100\n",
      "81/81 [==============================] - 0s 2ms/step - loss: 1.0947 - accuracy: 0.3762\n",
      "Epoch 97/100\n",
      "81/81 [==============================] - 0s 2ms/step - loss: 1.0947 - accuracy: 0.3762\n",
      "Epoch 98/100\n",
      "81/81 [==============================] - 0s 2ms/step - loss: 1.0947 - accuracy: 0.3762\n",
      "Epoch 99/100\n",
      "81/81 [==============================] - 0s 2ms/step - loss: 1.0948 - accuracy: 0.3762\n",
      "Epoch 100/100\n",
      "81/81 [==============================] - 0s 2ms/step - loss: 1.0948 - accuracy: 0.3762\n"
     ]
    },
    {
     "data": {
      "text/plain": [
       "<tensorflow.python.keras.callbacks.History at 0x2154ea07c10>"
      ]
     },
     "execution_count": 34,
     "metadata": {},
     "output_type": "execute_result"
    }
   ],
   "source": [
    "cat.fit(x_train,y_train,batch_size = 32, epochs=100)"
   ]
  },
  {
   "cell_type": "code",
   "execution_count": 35,
   "metadata": {},
   "outputs": [],
   "source": [
    "ypred = cat.predict(x_test)"
   ]
  },
  {
   "cell_type": "code",
   "execution_count": 36,
   "metadata": {},
   "outputs": [
    {
     "data": {
      "text/html": [
       "<div>\n",
       "<style scoped>\n",
       "    .dataframe tbody tr th:only-of-type {\n",
       "        vertical-align: middle;\n",
       "    }\n",
       "\n",
       "    .dataframe tbody tr th {\n",
       "        vertical-align: top;\n",
       "    }\n",
       "\n",
       "    .dataframe thead th {\n",
       "        text-align: right;\n",
       "    }\n",
       "</style>\n",
       "<table border=\"1\" class=\"dataframe\">\n",
       "  <thead>\n",
       "    <tr style=\"text-align: right;\">\n",
       "      <th></th>\n",
       "      <th>column_a</th>\n",
       "      <th>column_b</th>\n",
       "      <th>column_c</th>\n",
       "      <th>column_d</th>\n",
       "      <th>column_e</th>\n",
       "      <th>column_f</th>\n",
       "      <th>column_g</th>\n",
       "      <th>column_h</th>\n",
       "      <th>column_i</th>\n",
       "    </tr>\n",
       "  </thead>\n",
       "  <tbody>\n",
       "    <tr>\n",
       "      <th>0</th>\n",
       "      <td>M</td>\n",
       "      <td>0.455</td>\n",
       "      <td>0.365</td>\n",
       "      <td>0.095</td>\n",
       "      <td>0.514</td>\n",
       "      <td>0.2245</td>\n",
       "      <td>0.101</td>\n",
       "      <td>0.15</td>\n",
       "      <td>15.0</td>\n",
       "    </tr>\n",
       "  </tbody>\n",
       "</table>\n",
       "</div>"
      ],
      "text/plain": [
       "  column_a  column_b  column_c  column_d  column_e  column_f  column_g  \\\n",
       "0        M     0.455     0.365     0.095     0.514    0.2245     0.101   \n",
       "\n",
       "   column_h  column_i  \n",
       "0      0.15      15.0  "
      ]
     },
     "execution_count": 36,
     "metadata": {},
     "output_type": "execute_result"
    }
   ],
   "source": [
    "d.head(1)"
   ]
  },
  {
   "cell_type": "code",
   "execution_count": 38,
   "metadata": {},
   "outputs": [
    {
     "name": "stderr",
     "output_type": "stream",
     "text": [
      "C:\\ProgramData\\Anaconda3\\lib\\site-packages\\tensorflow\\python\\keras\\engine\\sequential.py:450: UserWarning: `model.predict_classes()` is deprecated and will be removed after 2021-01-01. Please use instead:* `np.argmax(model.predict(x), axis=-1)`,   if your model does multi-class classification   (e.g. if it uses a `softmax` last-layer activation).* `(model.predict(x) > 0.5).astype(\"int32\")`,   if your model does binary classification   (e.g. if it uses a `sigmoid` last-layer activation).\n",
      "  warnings.warn('`model.predict_classes()` is deprecated and '\n"
     ]
    },
    {
     "data": {
      "text/plain": [
       "array([2], dtype=int64)"
      ]
     },
     "execution_count": 38,
     "metadata": {},
     "output_type": "execute_result"
    }
   ],
   "source": [
    "cat.predict_classes(sc.transform([[0.455,0.365,0.095,0.514,0.2245,0.101,0.15]]))"
   ]
  },
  {
   "cell_type": "code",
   "execution_count": null,
   "metadata": {},
   "outputs": [],
   "source": []
  }
 ],
 "metadata": {
  "kernelspec": {
   "display_name": "Python 3",
   "language": "python",
   "name": "python3"
  },
  "language_info": {
   "codemirror_mode": {
    "name": "ipython",
    "version": 3
   },
   "file_extension": ".py",
   "mimetype": "text/x-python",
   "name": "python",
   "nbconvert_exporter": "python",
   "pygments_lexer": "ipython3",
   "version": "3.8.8"
  }
 },
 "nbformat": 4,
 "nbformat_minor": 2
}
